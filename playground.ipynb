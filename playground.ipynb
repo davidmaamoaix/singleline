{
 "cells": [
  {
   "cell_type": "markdown",
   "id": "623d9859-d212-47a8-9115-548ddb34d515",
   "metadata": {},
   "source": [
    "# SingleLine Playgroud\n",
    "\n",
    "This notebook explores some ideas in one-lining Python code while limiting function stack usage.\n",
    "\n",
    "Warning: lots of hacks ahead!\n",
    "\n",
    "__Disclaimer__: I realized that this file is a lot less necessary than I initially thought... The target code turned out to be a lot more about using the walrus operator than encoding various stuff with lambda."
   ]
  },
  {
   "cell_type": "markdown",
   "id": "17901655-85ad-496f-90ba-6b6eda5760ce",
   "metadata": {},
   "source": [
    "## Basic Recursions\n",
    "\n",
    "Basic recursions in lambda calculus is trivial: you just need a self-reference, usually done with a Y-combinator. However, its counterpart (Z-combinator) in a non-lazy language induces way too many layers of lambda application, which severely reduces the allowed depth of recursion. This project just stupidly uses the walrus operator `:=` to alter the namespace instead of using lambda bindings. This preserves the allowed recursion depth completely."
   ]
  },
  {
   "cell_type": "code",
   "execution_count": 13,
   "id": "e3628207-6329-410e-88f2-d92e1c7a4fe1",
   "metadata": {
    "tags": []
   },
   "outputs": [
    {
     "data": {
      "text/plain": [
       "(<function __main__.<lambda>(a, b)>,)"
      ]
     },
     "execution_count": 13,
     "metadata": {},
     "output_type": "execute_result"
    }
   ],
   "source": [
    "# source function\n",
    "\n",
    "def gcd(a, b):\n",
    "    return a if b == 0 else gcd(b, a % b)\n",
    "\n",
    "\n",
    "# transformed code\n",
    "\n",
    "(gcd := (lambda a, b: a if b == 0 else gcd(b, a % b)),)"
   ]
  },
  {
   "cell_type": "markdown",
   "id": "e715179c-7319-44f1-9691-2a5956f773eb",
   "metadata": {
    "tags": []
   },
   "source": [
    "## Mutual Recursions\n",
    "\n",
    "Just like the case for basic recursions, the typical lambda encoding of `letrec ... in ...` introduces too many function calls. Instead the walrus operator is abused again..."
   ]
  },
  {
   "cell_type": "code",
   "execution_count": 19,
   "id": "eda6164c-0829-4dc4-887f-f74a583ab584",
   "metadata": {
    "tags": []
   },
   "outputs": [
    {
     "data": {
      "text/plain": [
       "(<function __main__.<lambda>(a)>, <function __main__.<lambda>(a)>)"
      ]
     },
     "execution_count": 19,
     "metadata": {},
     "output_type": "execute_result"
    }
   ],
   "source": [
    "# source functions\n",
    "\n",
    "def even(a):\n",
    "    if a > 0:\n",
    "        print(a)\n",
    "        odd(a - 1)\n",
    "        \n",
    "def odd(a):\n",
    "    print(a)\n",
    "    even(a - 1)\n",
    "    \n",
    "\n",
    "# transformed code\n",
    "\n",
    "(even := lambda a: ((print(a), odd(a - 1)) if a > 0 else (), None)[1], odd := lambda a: (print(a), even(a - 1)))"
   ]
  },
  {
   "cell_type": "markdown",
   "id": "afa67d94-4512-4e86-bb69-fe96a033de37",
   "metadata": {},
   "source": [
    "## For Loops\n",
    "\n",
    "For loops introduces complication due to the possibility of an early termination or interruption with `break`, `return` or `continue`. \"Pure\" for loops, i.e. without any interruption, can be written as a list comprehension:"
   ]
  },
  {
   "cell_type": "code",
   "execution_count": 23,
   "id": "f30f550b-77cc-4166-88e8-26b67a06a54e",
   "metadata": {
    "tags": []
   },
   "outputs": [
    {
     "data": {
      "text/plain": [
       "(0, [0, 1, 3, 6, 10])"
      ]
     },
     "execution_count": 23,
     "metadata": {},
     "output_type": "execute_result"
    }
   ],
   "source": [
    "# source code\n",
    "\n",
    "acc = 0\n",
    "for i in range(5):\n",
    "    acc += i\n",
    "    \n",
    "\n",
    "# transformed code\n",
    "\n",
    "(acc := 0, [acc := acc + i for i in range(5)])"
   ]
  },
  {
   "cell_type": "markdown",
   "id": "bc15aea8-1a9c-48b8-a176-e0464365d025",
   "metadata": {},
   "source": [
    "## Loops with Interruption\n",
    "\n",
    "For `for` loops with interruption and `while` loops, a right fold is used to handle early termination and `continue`. This is achieved with `filter` on an infinite generator, paired with a preliminary variable to store the accumulated state. Note that since assignment of a variable outside of the scope of a lambda is not possible, the accumulated state is a bundle of all the variables altered in the `while` loop, along with a flag indicating whether the loop should terminate: `[flag, x1, x2, ..., xn]`.\n",
    "\n",
    "After the loop ends, all variables in the accumulated variable are unpacked into their original names (only for variables that are used afterwards according to the data flow analysis).\n",
    "\n",
    "While loop:"
   ]
  },
  {
   "cell_type": "code",
   "execution_count": 84,
   "id": "bdf2e975-4674-40ed-b8d3-ffb71ea3a176",
   "metadata": {
    "tags": []
   },
   "outputs": [
    {
     "name": "stdout",
     "output_type": "stream",
     "text": [
      "1249975000\n",
      "1249975000\n"
     ]
    },
    {
     "data": {
      "text/plain": [
       "([50000, 1249975000, True], 50000, 1249975000, None)"
      ]
     },
     "execution_count": 84,
     "metadata": {},
     "output_type": "execute_result"
    }
   ],
   "source": [
    "# source code\n",
    "\n",
    "x = 0\n",
    "acc = 0\n",
    "while x // 500 < 100:\n",
    "    acc += x\n",
    "    x += 1\n",
    "\n",
    "print(acc)\n",
    "\n",
    "\n",
    "# transformed code\n",
    "\n",
    "# import can be inlined, but now we're just demonstrating\n",
    "from itertools import count\n",
    "\n",
    "(a := [x := 0, acc := 0, not (x // 500 < 100)], next(filter(lambda _: True if a[2] else (a.__setitem__(1, a[1] + a[0]), a.__setitem__(0, a[0] + 1), a.__setitem__(2, not (a[0] // 500 < 100)), False)[-1], count())), acc := a[1], print(acc))"
   ]
  },
  {
   "cell_type": "markdown",
   "id": "f09be90a-8c49-4eba-aa44-3e633d6c410c",
   "metadata": {},
   "source": [
    "`break` and `continue` are implemented by exploiting the short-wiring of the `... if ... else ...` expression.\n",
    "\n",
    "A control flow graph is created for this purpose during the compilation process."
   ]
  },
  {
   "cell_type": "code",
   "execution_count": null,
   "id": "944c5f96-59e6-4ae5-b0d5-ae2a86984374",
   "metadata": {},
   "outputs": [],
   "source": []
  }
 ],
 "metadata": {
  "kernelspec": {
   "display_name": "Python 3 (ipykernel)",
   "language": "python",
   "name": "python3"
  },
  "language_info": {
   "codemirror_mode": {
    "name": "ipython",
    "version": 3
   },
   "file_extension": ".py",
   "mimetype": "text/x-python",
   "name": "python",
   "nbconvert_exporter": "python",
   "pygments_lexer": "ipython3",
   "version": "3.10.5"
  }
 },
 "nbformat": 4,
 "nbformat_minor": 5
}
