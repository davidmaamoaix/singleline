{
 "cells": [
  {
   "cell_type": "markdown",
   "id": "623d9859-d212-47a8-9115-548ddb34d515",
   "metadata": {},
   "source": [
    "# SingleLine Playground\n",
    "\n",
    "This notebook explores some ideas in one-lining Python code while limiting function stack usage.\n",
    "\n",
    "Warning: lots of hacks ahead!\n",
    "\n",
    "__Disclaimer__: I realized that this file is a lot less necessary than I initially thought... The target code turned out to be a lot more about using the walrus operator than encoding various stuff with lambda."
   ]
  },
  {
   "cell_type": "markdown",
   "id": "17901655-85ad-496f-90ba-6b6eda5760ce",
   "metadata": {},
   "source": [
    "## Basic Recursions\n",
    "\n",
    "Basic recursions in lambda calculus is trivial: you just need a self-reference, usually done with a Y-combinator. However, its counterpart (Z-combinator) in a non-lazy language induces way too many layers of lambda application, which severely reduces the allowed depth of recursion. This project just stupidly uses the walrus operator `:=` to alter the namespace instead of using lambda bindings. This preserves the allowed recursion depth completely."
   ]
  },
  {
   "cell_type": "code",
   "execution_count": 125,
   "id": "e3628207-6329-410e-88f2-d92e1c7a4fe1",
   "metadata": {
    "tags": []
   },
   "outputs": [],
   "source": [
    "# source function\n",
    "\n",
    "def gcd(a, b):\n",
    "    return a if b == 0 else gcd(b, a % b)\n",
    "\n",
    "\n",
    "# transformed code\n",
    "\n",
    "_ = (gcd := (lambda a, b: a if b == 0 else gcd(b, a % b)))"
   ]
  },
  {
   "cell_type": "markdown",
   "id": "e715179c-7319-44f1-9691-2a5956f773eb",
   "metadata": {
    "tags": []
   },
   "source": [
    "## Mutual Recursions\n",
    "\n",
    "Just like the case for basic recursions, the typical lambda encoding of `letrec ... in ...` introduces too many function calls. Instead the walrus operator is abused again...\n",
    "\n",
    "Note that if a function returns `None` in the source code, it will return `None` after transformation even if its return value is never used according to a data-flow analysis. This is done in case another file imports a transformed function and expect it to return `None`. While this isn't true for functions defined inside another function (thus leaving room for optimization by omitting `return None`), this is not currently implemented."
   ]
  },
  {
   "cell_type": "code",
   "execution_count": 126,
   "id": "eda6164c-0829-4dc4-887f-f74a583ab584",
   "metadata": {
    "tags": []
   },
   "outputs": [],
   "source": [
    "# source functions\n",
    "\n",
    "def even(a):\n",
    "    if a > 0:\n",
    "        print(a)\n",
    "        odd(a - 1)\n",
    "        \n",
    "def odd(a):\n",
    "    print(a)\n",
    "    even(a - 1)\n",
    "    \n",
    "\n",
    "# transformed code\n",
    "\n",
    "_ = (\n",
    "    even := lambda a: ((print(a), odd(a - 1)) if a > 0 else (), None)[-1], # even\n",
    "    odd := lambda a: (print(a), even(a - 1), None)[-1] # odd\n",
    ")"
   ]
  },
  {
   "cell_type": "markdown",
   "id": "ac486bb1-a3ca-446e-bb0b-79a102ec92f4",
   "metadata": {},
   "source": [
    "## If Statements\n",
    "\n",
    "`if` statements are "
   ]
  },
  {
   "cell_type": "markdown",
   "id": "afa67d94-4512-4e86-bb69-fe96a033de37",
   "metadata": {},
   "source": [
    "## For Loops\n",
    "\n",
    "For loops introduces complication due to the possibility of an early termination or interruption with `break`, `return` or `continue`. \"Pure\" for loops, i.e. without any interruption, can be written as a list comprehension:"
   ]
  },
  {
   "cell_type": "code",
   "execution_count": 127,
   "id": "f30f550b-77cc-4166-88e8-26b67a06a54e",
   "metadata": {
    "tags": []
   },
   "outputs": [],
   "source": [
    "# source code\n",
    "\n",
    "acc = 0\n",
    "for i in range(5):\n",
    "    acc += i\n",
    "    \n",
    "\n",
    "# transformed code\n",
    "\n",
    "_ = (acc := 0, [acc := acc + i for i in range(5)])"
   ]
  },
  {
   "cell_type": "markdown",
   "id": "bc15aea8-1a9c-48b8-a176-e0464365d025",
   "metadata": {},
   "source": [
    "## Loops with Interruption\n",
    "\n",
    "For `for` loops with interruption and `while` loops, a right fold is used to handle early termination and `continue`. This is achieved with `filter` on an infinite generator, paired with a preliminary variable to store the accumulated state. Note that since assignment of a variable outside of the scope of a lambda is not possible, the accumulated state is a bundle of all the variables altered in the `while` loop, along with a flag indicating whether the loop should terminate: `[x1, x2, ..., xn, flag]`.\n",
    "\n",
    "After the loop ends, all variables in the accumulated variable are unpacked into their original names (only for variables that are used afterwards according to the data flow analysis).\n",
    "\n",
    "### Accumulator Encoding\n",
    "\n",
    "As mentioned above, the accumulator for a loop should capture all altered variables in the loop, along with some flags that describes the execution state of the loop. The specific format of an accumulator is defined as:\n",
    "`[x1, ..., xn, ret_val, has_ret, break_term, while_term]`\n",
    "\n",
    "- `ret_val` (object) and `has_ret` (boolean) only exists when the loop is in a function and has the possibility of returning a value. `has_ret` describes whether the loop triggered a return statement, and `ret_val` contains the return value.\n",
    "- `break_term` (boolean) is a termination flag that only exists when the loop has the possibility of encountering a `break` statement.\n",
    "- `while_term` (boolean) is a termination flag that only exists when the loop is a while loop.\n",
    "\n",
    "If any one of `has_ret`, `break_term` or `while_term` is `True`, the loop will be terminated. In the AST transformer, the existence of these flags are decided automatically based on an analysis pass on the source code of the loop (e.g., if a `while` loop does not have `break` or `return` in it then those flags will not be generated).\n",
    "\n",
    "While loop:"
   ]
  },
  {
   "cell_type": "code",
   "execution_count": 128,
   "id": "bdf2e975-4674-40ed-b8d3-ffb71ea3a176",
   "metadata": {
    "tags": []
   },
   "outputs": [
    {
     "name": "stdout",
     "output_type": "stream",
     "text": [
      "1249975000\n",
      "1249975000\n"
     ]
    }
   ],
   "source": [
    "# source code\n",
    "\n",
    "x = 0\n",
    "acc = 0\n",
    "while x // 500 < 100:\n",
    "    acc += x\n",
    "    x += 1\n",
    "\n",
    "print(acc)\n",
    "\n",
    "\n",
    "# transformed code\n",
    "\n",
    "# import can be inlined, but now we're just demonstrating\n",
    "from itertools import count\n",
    "\n",
    "_ = (\n",
    "    # intermediate state (accumulator)\n",
    "    # note that only the `while_term` exist\n",
    "    a := [x := 0, acc := 0, not (x // 500 < 100)],\n",
    "    \n",
    "    next(filter(\n",
    "        lambda _: True if any(a[-1 :]) else\n",
    "        (\n",
    "            a.__setitem__(1, a[1] + a[0]), # acc += 1\n",
    "            a.__setitem__(0, a[0] + 1), # x += 1\n",
    "            a.__setitem__(-1, not (a[0] // 500 < 100)), # updates the while loop termination flag\n",
    "            False # does not stop the `filter`\n",
    "        )[-1],\n",
    "        count() # `while` maps over an infinite generator\n",
    "    )),\n",
    "    \n",
    "    acc := a[1], # unpacking the accumulator\n",
    "    print(acc)\n",
    ")"
   ]
  },
  {
   "cell_type": "markdown",
   "id": "f09be90a-8c49-4eba-aa44-3e633d6c410c",
   "metadata": {},
   "source": [
    "`break` and `continue` are implemented by exploiting the short-wiring of the `... if ... else ...` expression.\n",
    "\n",
    "Note that `break` and `continue` generates the same code, except `break` sets the `break_term` flag.\n",
    "\n",
    "A control flow graph is created for this purpose during the compilation process."
   ]
  },
  {
   "cell_type": "code",
   "execution_count": 129,
   "id": "944c5f96-59e6-4ae5-b0d5-ae2a86984374",
   "metadata": {
    "tags": []
   },
   "outputs": [
    {
     "name": "stdout",
     "output_type": "stream",
     "text": [
      "[0, 2, 4, 6, 8, 10, 12, 14, 16, 18, 20, 22, 24, 26, 28, 30, 32, 34, 36, 38, 40, 42, 44, 46, 48, 50]\n",
      "[0, 2, 4, 6, 8, 10, 12, 14, 16, 18, 20, 22, 24, 26, 28, 30, 32, 34, 36, 38, 40, 42, 44, 46, 48, 50]\n"
     ]
    }
   ],
   "source": [
    "# source code\n",
    "\n",
    "odds = []\n",
    "for i in range(100):\n",
    "    if i & 1 != 0: continue\n",
    "    if i > 50: break\n",
    "        \n",
    "    odds.append(i)\n",
    "    \n",
    "print(odds)\n",
    "\n",
    "\n",
    "# transformed code\n",
    "\n",
    "from itertools import count\n",
    "\n",
    "_ = (\n",
    "    odds := [], # `odds` is never reassigned a value in the `for`, thus not packed in accumulator state\n",
    "    \n",
    "    # intermediate state, note that the only flag is `break_term`\n",
    "    a := [False],\n",
    "    \n",
    "    next(filter(\n",
    "        \n",
    "        # `break_term` interruption\n",
    "        lambda i: True if any(a[-1 :]) else\n",
    "        (\n",
    "            # `continue_flag` of a branching statement\n",
    "            c_flag := False,\n",
    "            \n",
    "            # `if i & 1 != 0: continue`\n",
    "            (c_flag := True) if i & 1 != 0 else (),\n",
    "            \n",
    "            # rest of program after `if i & 1 != 0: continue`, else returns `False` to continue\n",
    "            False if c_flag else\n",
    "            (\n",
    "                # `continue_flag` of the `if i > 50` statement\n",
    "                c_flag := False,\n",
    "                \n",
    "                # `if i > 50: break`, note that `break_term` is set\n",
    "                (c_flag := (a.__setitem__(-1, True), True)[-1]) if i > 50 else (),\n",
    "                \n",
    "                False if c_flag else odds.append(i),\n",
    "                \n",
    "                # next iteration\n",
    "                False\n",
    "            )[-1]\n",
    "        )[-1],\n",
    "        range(100)\n",
    "    )),\n",
    "    print(odds)\n",
    ")"
   ]
  },
  {
   "cell_type": "code",
   "execution_count": null,
   "id": "7d50ecf8-cb09-4080-b1ac-7044fc240277",
   "metadata": {},
   "outputs": [],
   "source": []
  }
 ],
 "metadata": {
  "kernelspec": {
   "display_name": "Python 3 (ipykernel)",
   "language": "python",
   "name": "python3"
  },
  "language_info": {
   "codemirror_mode": {
    "name": "ipython",
    "version": 3
   },
   "file_extension": ".py",
   "mimetype": "text/x-python",
   "name": "python",
   "nbconvert_exporter": "python",
   "pygments_lexer": "ipython3",
   "version": "3.10.5"
  }
 },
 "nbformat": 4,
 "nbformat_minor": 5
}
